{
 "cells": [
  {
   "cell_type": "code",
   "execution_count": 55,
   "metadata": {
    "pycharm": {
     "name": "#%%\n"
    }
   },
   "outputs": [],
   "source": [
    "import networkx as nx\n",
    "from torch_geometric.datasets import ZINC\n",
    "from torch_geometric.data import DataLoader\n",
    "import matplotlib.pyplot as plt\n",
    "import torch\n",
    "import torch.nn as nn\n",
    "import torch.optim as op\n",
    "from torch_geometric.nn import global_add_pool\n",
    "from torch_geometric.datasets import QM9, ZINC\n",
    "from torch_geometric.data import DataLoader\n",
    "from torch_scatter import scatter_add\n",
    "\n",
    "class BasicMPNNLayer(nn.Module):\n",
    "    def __init__(self, num_hidden):\n",
    "        super().__init__()\n",
    "        self.message_mlp = nn.Linear(3 * num_hidden, num_hidden)\n",
    "        self.update_mlp = nn.Linear(2 * num_hidden, num_hidden)\n",
    "\n",
    "    def forward(self, h, edge_index, edge_attr):\n",
    "        send, rec = edge_index\n",
    "        h_send, h_rec = h[send], h[rec]\n",
    "        messages = self.message_mlp(torch.cat((h_send, h_rec, edge_attr), dim=1))\n",
    "        messages_agg = scatter_add(messages, rec, dim=0)\n",
    "        out = self.update_mlp(torch.cat((h, messages_agg), dim=1))\n",
    "\n",
    "        return out"
   ]
  },
  {
   "cell_type": "code",
   "execution_count": 56,
   "metadata": {
    "pycharm": {
     "name": "#%%\n"
    }
   },
   "outputs": [],
   "source": [
    "class BasicMPNN(nn.Module):\n",
    "    def __init__(self, feat_in, edge_feat_in, num_hidden, num_layers):\n",
    "        super().__init__()\n",
    "        self.embed = nn.Linear(feat_in, num_hidden)\n",
    "        self.edge_embed = nn.Linear(edge_feat_in, num_hidden)\n",
    "        self.layers = nn.ModuleList([BasicMPNNLayer(num_hidden) for _ in range(num_layers)])\n",
    "        self.predict = nn.Linear(num_hidden, 1)\n",
    "\n",
    "    def forward(self, graph):\n",
    "        #print(graph.x, graph.pos)\n",
    "        h, edge_index, edge_attr,  batch = graph.x, graph.edge_index, graph.edge_attr, graph.batch\n",
    "\n",
    "        # h_nodes, h_edges, h_triangles\n",
    "        h = h.float()\n",
    "        h = self.embed(h)\n",
    "        edge_attr = edge_attr.unsqueeze(1).float()\n",
    "        edge_attr = self.edge_embed(edge_attr)\n",
    "\n",
    "        for layer in self.layers:\n",
    "            # h_nodes, h_edges, h_triangles = layer(..., edge_nodes_nodes, edge_nodes_edges, ...)\n",
    "            h = h + nn.functional.relu(layer(h, edge_index, edge_attr))\n",
    "\n",
    "        h_agg = global_add_pool(h, batch)\n",
    "        final_prediction = self.predict(h_agg)\n",
    "\n",
    "        return final_prediction.squeeze(1)"
   ]
  },
  {
   "cell_type": "code",
   "execution_count": 60,
   "metadata": {
    "pycharm": {
     "name": "#%%\n"
    }
   },
   "outputs": [],
   "source": [
    "# transform = PEAddWR(....)\n",
    "# transform = AddRandomWalkPE(walk_length=4)\n",
    "data = ZINC('datasets/ZINC_basic') #QM9('datasets/QM9', pre_transform=transform)\n",
    "\n",
    "train_loader = DataLoader(data[:10], batch_size=32)\n",
    "val_loader = DataLoader(data[10:12], batch_size=32)\n",
    "test_loader = DataLoader(data[12:14], batch_size=32)\n",
    "\n",
    "model = BasicMPNN(1, 1, 32, 4)\n",
    "optimizer = op.Adam(model.parameters(), lr=1e-4)\n",
    "criterion = nn.L1Loss(reduce='sum')\n",
    "\n",
    "# test"
   ]
  },
  {
   "cell_type": "code",
   "execution_count": 61,
   "metadata": {
    "pycharm": {
     "name": "#%%\n"
    }
   },
   "outputs": [
    {
     "name": "stdout",
     "output_type": "stream",
     "text": [
      "2.6160797119140624\n",
      "2.3987836837768555\n",
      "2.184476852416992\n",
      "1.9739900588989259\n",
      "1.7663282394409179\n",
      "1.5605850219726562\n",
      "1.3572912216186523\n",
      "1.1572065353393555\n",
      "0.9608661651611328\n",
      "0.7666574954986572\n"
     ]
    }
   ],
   "source": [
    "for _ in range(10):\n",
    "    # train\n",
    "    train_loss = 0\n",
    "    model.train()\n",
    "    for batch in train_loader:\n",
    "        optimizer.zero_grad()\n",
    "        label = batch.y  # alpha\n",
    "\n",
    "        out = model(batch)\n",
    "\n",
    "        loss = criterion(out, label)\n",
    "        train_loss += loss.item()\n",
    "\n",
    "        loss.backward()\n",
    "        optimizer.step()\n",
    "\n",
    "    print(train_loss / len(train_loader.dataset))\n",
    "    \n"
   ]
  },
  {
   "cell_type": "code",
   "execution_count": 17,
   "metadata": {
    "pycharm": {
     "name": "#%%\n"
    }
   },
   "outputs": [
    {
     "data": {
      "text/plain": [
       "DataBatch(x=[253, 1], edge_index=[2, 546], edge_attr=[546], y=[10], batch=[253], ptr=[11])"
      ]
     },
     "execution_count": 17,
     "metadata": {},
     "output_type": "execute_result"
    }
   ],
   "source": [
    "batch"
   ]
  },
  {
   "cell_type": "code",
   "execution_count": 26,
   "metadata": {
    "pycharm": {
     "name": "#%%\n"
    }
   },
   "outputs": [
    {
     "data": {
      "text/plain": [
       "Data(x=[29, 1], edge_index=[2, 64], edge_attr=[64], y=[1])"
      ]
     },
     "execution_count": 26,
     "metadata": {},
     "output_type": "execute_result"
    }
   ],
   "source": [
    "data[50]"
   ]
  },
  {
   "cell_type": "code",
   "execution_count": 25,
   "metadata": {
    "pycharm": {
     "name": "#%%\n"
    }
   },
   "outputs": [
    {
     "data": {
      "text/plain": [
       "tensor([[ 0,  1,  1,  1,  2,  2,  2,  3,  3,  3,  4,  5,  5,  6,  6,  6,  7,  7,\n",
       "          8,  8,  9,  9,  9, 10, 11, 11, 12, 12, 13, 13, 13, 14, 14, 15, 15, 16,\n",
       "         16, 17, 17, 18, 18, 18, 19, 19, 19, 20, 20, 20, 21, 22, 22, 22, 23, 23,\n",
       "         24, 24, 25, 25, 25, 26, 27, 27, 28, 28],\n",
       "        [ 1,  0,  2, 19,  1,  3, 13,  2,  4,  5,  3,  3,  6,  5,  7, 12,  6,  8,\n",
       "          7,  9,  8, 10, 11,  9,  9, 12,  6, 11,  2, 14, 18, 13, 15, 14, 16, 15,\n",
       "         17, 16, 18, 13, 17, 19,  1, 18, 20, 19, 21, 22, 20, 20, 23, 28, 22, 24,\n",
       "         23, 25, 24, 26, 27, 25, 25, 28, 22, 27]])"
      ]
     },
     "execution_count": 25,
     "metadata": {},
     "output_type": "execute_result"
    }
   ],
   "source": [
    "data[50].edge_index"
   ]
  },
  {
   "cell_type": "code",
   "execution_count": null,
   "metadata": {
    "pycharm": {
     "name": "#%%\n"
    }
   },
   "outputs": [],
   "source": [
    "\n",
    "model.eval()\n",
    "test_loss = 0\n",
    "for batch in test_loader:\n",
    "    out = model(batch)\n",
    "    label = batch.y[:, 1]\n",
    "    loss = criterion(out, label)\n",
    "\n",
    "    test_loss += loss.item()\n",
    "\n",
    "print(test_loss / len(test_loader.dataset))"
   ]
  },
  {
   "cell_type": "code",
   "execution_count": null,
   "metadata": {
    "pycharm": {
     "name": "#%%\n"
    }
   },
   "outputs": [],
   "source": []
  },
  {
   "cell_type": "code",
   "execution_count": null,
   "metadata": {
    "pycharm": {
     "name": "#%%\n"
    }
   },
   "outputs": [],
   "source": []
  },
  {
   "cell_type": "code",
   "execution_count": null,
   "metadata": {
    "pycharm": {
     "name": "#%%\n"
    }
   },
   "outputs": [],
   "source": []
  }
 ],
 "metadata": {
  "kernelspec": {
   "display_name": "3.9",
   "language": "python",
   "name": "python3"
  },
  "language_info": {
   "codemirror_mode": {
    "name": "ipython",
    "version": 3
   },
   "file_extension": ".py",
   "mimetype": "text/x-python",
   "name": "python",
   "nbconvert_exporter": "python",
   "pygments_lexer": "ipython3",
   "version": "3.9.16"
  },
  "orig_nbformat": 4
 },
 "nbformat": 4,
 "nbformat_minor": 2
}
